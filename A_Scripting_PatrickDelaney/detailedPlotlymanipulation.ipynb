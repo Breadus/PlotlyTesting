{
 "cells": [
  {
   "cell_type": "code",
   "execution_count": 2,
   "metadata": {},
   "outputs": [],
   "source": [
    "#Name: Patrick Delaney, T-number: T00144648, Module:Advanced Scripting\n",
    "#login to plotly to allow Jupyter notebook to access the plotly UI\n",
    "import plotly\n",
    "plotly.tools.set_credentials_file(username='Breadus', api_key='W6EpZTrUFsNaInb2KRvk')"
   ]
  },
  {
   "cell_type": "code",
   "execution_count": 23,
   "metadata": {
    "scrolled": true
   },
   "outputs": [
    {
     "data": {
      "text/html": [
       "<iframe id=\"igraph\" scrolling=\"no\" style=\"border:none;\" seamless=\"seamless\" src=\"https://plot.ly/~Breadus/17.embed\" height=\"260px\" width=\"100%\"></iframe>"
      ],
      "text/plain": [
       "<plotly.tools.PlotlyDisplay object>"
      ]
     },
     "execution_count": 23,
     "metadata": {},
     "output_type": "execute_result"
    }
   ],
   "source": [
    "#import libraries needed to work on plotting device\n",
    "import plotly.plotly as py\n",
    "import plotly.figure_factory as ff\n",
    "import pandas as pd\n",
    "#use panda to read csv file into dataset\n",
    "df = pd.read_csv(\"employeedetails.csv\")\n",
    "\n",
    "# input dataset into plotly to create table grid\n",
    "table = ff.create_table(df)\n",
    "#uploads the table set to plotly user storage.\n",
    "py.iplot(table, filename='employee_details_table')"
   ]
  },
  {
   "cell_type": "code",
   "execution_count": 68,
   "metadata": {},
   "outputs": [
    {
     "data": {
      "text/html": [
       "<iframe id=\"igraph\" scrolling=\"no\" style=\"border:none;\" seamless=\"seamless\" src=\"https://plot.ly/~Breadus/21.embed\" height=\"525px\" width=\"100%\"></iframe>"
      ],
      "text/plain": [
       "<plotly.tools.PlotlyDisplay object>"
      ]
     },
     "execution_count": 68,
     "metadata": {},
     "output_type": "execute_result"
    }
   ],
   "source": [
    "import plotly.plotly as py\n",
    "import plotly.graph_objs as go\n",
    "import pandas as pd\n",
    "import numpy as np\n",
    "# first section is to load the csv data into reable format to access\n",
    "df = pd.read_csv(\"employeedetails.csv\")\n",
    "#define our variables to load for average income code segment\n",
    "avg_val = []\n",
    "num = 0\n",
    "# use pandas index location to select the income column of \n",
    "#the table to to load into a variable we can use numpy function on\n",
    "income_values = list(df.iloc[:,5])\n",
    "#for plotly to generate a horizonal line the average value needs to \n",
    "#be saved for each row in the dataset so the api can draw the line\n",
    "#the while loop facilitates this\n",
    "while num < len(income_values):\n",
    "    num += 1\n",
    "    temp_val = np.average(income_values)\n",
    "    avg_val.append(temp_val)\n",
    "#we define our first table overlay to pull the neccessary data\n",
    "#to develop the bars and sizes of the values visually\n",
    "trace_income = {\n",
    "    \"x\":[[df.Name],[df.Address]],\n",
    "    \"y\":df.Income,\n",
    "    #the marker defines the coloration and format of the components of\n",
    "    #the bar chart\n",
    "    \"marker\": {\n",
    "        \"cauto\": False, \n",
    "        \"cmax\": 80000, \n",
    "        \"colorscale\": [\n",
    "              [0, \"#a50026\"], [0.1, \"#d73027\"], [0.2, \"#f46d43\"], \n",
    "              [0.3, \"#fdae61\"], [0.4, \"#fee08b\"], [0.5, \"#ffffbf\"], \n",
    "              [0.6, \"#d9ef8b\"], [0.7, \"#a6d96a\"], [0.8, \"#66bd63\"], \n",
    "              [0.9, \"#1a9850\"], [1, \"#006837\"]], \n",
    "        \"colorsrc\": \"Breadus:14:3dc393\", \n",
    "        \"line\": {\"width\": 2}, \n",
    "        \"opacity\": 0.75, \n",
    "        \"showscale\": True\n",
    "      }, \n",
    "      #\"orientation\": \"v\", #determines the charts orientation\n",
    "      \"type\": \"bar\", \n",
    "      \"xsrc\": \"Breadus:14:65292b,f6c31c*\", \n",
    "      \"ysrc\": \"Breadus:14:3dc393\"\n",
    "}\n",
    "#the overlay that defines our average income line for the table \n",
    "#using a scatter chart conponent to draw the values as a line.\n",
    "trace_average = { \n",
    "  \"y\": avg_val,\n",
    "  \"fill\": \"none\", \n",
    "  \"line\": {\"color\": \"rgb(0, 0, 255)\"}, \n",
    "  \"mode\": \"lines\", \n",
    "  \"type\": \"scatter\", \n",
    "  \"xaxis\": \"x2\", \n",
    "  \"yaxis\": \"y\", \n",
    "  \"ysrc\": \"Breadus:14:3dc393\"\n",
    "}\n",
    "data =[trace_income,trace_average]\n",
    "#the layout defines all the other conditional formatting for the\n",
    "#components of the visualization.\n",
    "layout = {\n",
    "  \"autosize\": True, \n",
    "  \"bargap\": 0.050000000000000044, \n",
    "  \"bargroupgap\": 0, \n",
    "  \"barmode\": \"group\", \n",
    "  \"barnorm\": \"\", \n",
    "  \"dragmode\": \"zoom\", \n",
    "  \"font\": {\"size\": 12}, \n",
    "  \"hovermode\": \"closest\", \n",
    "  \"margin\": {\n",
    "    \"r\": 80, \n",
    "    \"t\": 100, \n",
    "    \"pad\": 0\n",
    "  }, \n",
    "  \"plot_bgcolor\": \"rgb(255, 255, 255)\", \n",
    "  \"showlegend\": False, \n",
    "  \"title\": {\n",
    "    \"x\": 0.5, \n",
    "    \"font\": {\n",
    "      \"size\": 20, \n",
    "      \"family\": \"Arial\"\n",
    "    }, \n",
    "    \"text\": \"<b>Income Statistics Of Company X</b>\"\n",
    "  }, \n",
    "  \"xaxis\": {\n",
    "    \"anchor\": \"free\", \n",
    "    \"autorange\": True, \n",
    "    \"gridcolor\": \"rgb(125, 125, 125)\", \n",
    "    \"linecolor\": \"rgb(0, 0, 0)\", \n",
    "    \"range\": [-0.5, 5.5], \n",
    "    \"showgrid\": True, \n",
    "    \"showline\": True, \n",
    "    \"title\": {\"text\": \"Employee Details\"}, \n",
    "    \"type\": \"multicategory\"\n",
    "  }, \n",
    "  \"xaxis2\": {\n",
    "    \"autorange\": True, \n",
    "    \"overlaying\": \"x\", \n",
    "    \"range\": [0, 5], \n",
    "    \"side\": \"top\"\n",
    "  }, \n",
    "  \"yaxis\": {\n",
    "    \"anchor\": \"free\", \n",
    "    \"autorange\": True, \n",
    "    \"gridcolor\": \"rgb(125, 125, 125)\", \n",
    "    \"linecolor\": \"rgb(0, 0, 0)\", \n",
    "    \"range\": [0, 80000], \n",
    "    \"showline\": True, \n",
    "    \"title\": {\"text\": \"Yearly Income\"}, \n",
    "    \"type\": \"linear\"\n",
    "  }\n",
    "}\n",
    "#the formatting is saved to a variable for ease of referencing\n",
    "fig = go.Figure(data=data, layout=layout)\n",
    "#the chart is uploaded to plotly user storage.\n",
    "py.iplot(fig, sharing='public', filename='emp_details_bar')\n"
   ]
  },
  {
   "cell_type": "code",
   "execution_count": 53,
   "metadata": {},
   "outputs": [
    {
     "data": {
      "text/plain": [
       "[45000, 54000, 63000, 59000, 76000, 30000]"
      ]
     },
     "execution_count": 53,
     "metadata": {},
     "output_type": "execute_result"
    }
   ],
   "source": [
    "list(df.iloc[:,5])\n"
   ]
  }
 ],
 "metadata": {
  "kernelspec": {
   "display_name": "Python 3",
   "language": "python",
   "name": "python3"
  },
  "language_info": {
   "codemirror_mode": {
    "name": "ipython",
    "version": 3
   },
   "file_extension": ".py",
   "mimetype": "text/x-python",
   "name": "python",
   "nbconvert_exporter": "python",
   "pygments_lexer": "ipython3",
   "version": "3.7.0"
  }
 },
 "nbformat": 4,
 "nbformat_minor": 2
}
