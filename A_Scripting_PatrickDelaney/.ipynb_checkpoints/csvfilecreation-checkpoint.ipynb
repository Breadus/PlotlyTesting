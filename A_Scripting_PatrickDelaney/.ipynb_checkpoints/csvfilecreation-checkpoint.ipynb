{
 "cells": [
  {
   "cell_type": "code",
   "execution_count": 5,
   "metadata": {},
   "outputs": [
    {
     "name": "stdout",
     "output_type": "stream",
     "text": [
      "Please enter the number of employees with the company: 6\n",
      "Please enter the employees name:Patrick\n",
      "Please enter the employees yearly income:60000\n",
      "Please enter the employees name:James\n",
      "Please enter the employees yearly income:64000\n",
      "Please enter the employees name:Mary\n",
      "Please enter the employees yearly income:56000\n",
      "Please enter the employees name:Owen\n",
      "Please enter the employees yearly income:46000\n",
      "Please enter the employees name:Xanter\n",
      "Please enter the employees yearly income:78000\n",
      "Please enter the employees name:Quistis\n",
      "Please enter the employees yearly income:67000\n",
      "[['Employee Name', 'Income'], [], [], [], [], [], []]\n"
     ]
    }
   ],
   "source": [
    "#Name: Patrick Delaney, T-number: T00144648, Module:Advanced Scripting\n",
    "import csv\n",
    "\n",
    "\n",
    "rowcounter= int(input(\"Please enter the number of employees with the company: \"))\n",
    "\n",
    "employeelist =[]\n",
    "subname = ['Employee','Income']\n",
    "employeelist.append(subname)\n",
    "\n",
    "for num in range(rowcounter):\n",
    "    e_names = input(\"Please enter the employees name:\")\n",
    "    payment = float(input(\"Please enter the employees yearly income:\"))\n",
    "    subvalues =[e_names, payment]\n",
    "    employeelist.extend(subvalues)\n",
    "    subvalues.clear()\n",
    "\n",
    "print (employeelist)\n",
    "\n"
   ]
  },
  {
   "cell_type": "code",
   "execution_count": 12,
   "metadata": {},
   "outputs": [
    {
     "name": "stdout",
     "output_type": "stream",
     "text": [
      "Please enter the number of employees with the company: 2\n",
      "Please enter the employees name:Patrick\n",
      "Please enter the employees yearly income:65000\n",
      "['Patrick', '65000']\n",
      "Please enter the employees name:Mary\n",
      "Please enter the employees yearly income:45000\n",
      "['Mary', '45000']\n",
      "[['Employee Name:', 'Income:'], ['Patrick', '65000'], ['Mary', '45000']]\n"
     ]
    }
   ],
   "source": [
    "import csv\n",
    "\n",
    "\n",
    "rowcounter= int(input(\"Please enter the number of employees with the company: \"))\n",
    "\n",
    "employeelist =[]\n",
    "subname = ['Employee Name:','Income:']\n",
    "employeelist.append(subname)\n",
    "\n",
    "for num in range(rowcounter):\n",
    "    e_names = input(\"Please enter the employees name:\")\n",
    "    payment = input(\"Please enter the employees yearly income:\")\n",
    "    subvalues = [e_names, payment]\n",
    "    print (subvalues)\n",
    "    employeelist.append(subvalues)\n",
    "\n",
    "print (employeelist)\n",
    "\n"
   ]
  },
  {
   "cell_type": "code",
   "execution_count": 1,
   "metadata": {
    "scrolled": true
   },
   "outputs": [
    {
     "name": "stdout",
     "output_type": "stream",
     "text": [
      "Please enter the number of employees with the company: 6\n",
      "Please enter the employees name:Patrick\n",
      "Please enter the employees yearly income:64000\n",
      "['Patrick', '64000']\n",
      "Please enter the employees name:Mary\n",
      "Please enter the employees yearly income:45000\n",
      "['Mary', '45000']\n",
      "Please enter the employees name:Joseph\n",
      "Please enter the employees yearly income:78000\n",
      "['Joseph', '78000']\n",
      "Please enter the employees name:mark\n",
      "Please enter the employees yearly income:65000\n",
      "['mark', '65000']\n",
      "Please enter the employees name:john\n",
      "Please enter the employees yearly income:24000\n",
      "['john', '24000']\n",
      "Please enter the employees name:Laura\n",
      "Please enter the employees yearly income:36000\n",
      "['Laura', '36000']\n",
      "[['EmployeeName', 'Income'], ['Patrick', '64000'], ['Mary', '45000'], ['Joseph', '78000'], ['mark', '65000'], ['john', '24000'], ['Laura', '36000']]\n"
     ]
    }
   ],
   "source": [
    "import csv\n",
    "\n",
    "\n",
    "rowcounter= int(input(\"Please enter the number of employees with the company: \"))\n",
    "\n",
    "employeelist =[]\n",
    "subname = ['EmployeeName','Income']\n",
    "employeelist.append(subname)\n",
    "\n",
    "for num in range(rowcounter):\n",
    "    e_names = input(\"Please enter the employees name:\")\n",
    "    payment = input(\"Please enter the employees yearly income:\")\n",
    "    subvalues = [e_names, payment]\n",
    "    print (subvalues)\n",
    "    employeelist.append(subvalues)\n",
    "\n",
    "print (employeelist)\n",
    "\n",
    "with open('employeeincome.csv', 'w') as csvFile:\n",
    "    writer = csv.writer(csvFile)\n",
    "    writer.writerows(employeelist)\n",
    "csvFile.close()"
   ]
  },
  {
   "cell_type": "code",
   "execution_count": null,
   "metadata": {},
   "outputs": [],
   "source": []
  }
 ],
 "metadata": {
  "kernelspec": {
   "display_name": "Python 3",
   "language": "python",
   "name": "python3"
  },
  "language_info": {
   "codemirror_mode": {
    "name": "ipython",
    "version": 3
   },
   "file_extension": ".py",
   "mimetype": "text/x-python",
   "name": "python",
   "nbconvert_exporter": "python",
   "pygments_lexer": "ipython3",
   "version": "3.7.0"
  }
 },
 "nbformat": 4,
 "nbformat_minor": 2
}
